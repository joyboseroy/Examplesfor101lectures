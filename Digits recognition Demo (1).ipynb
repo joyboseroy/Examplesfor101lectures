{
 "cells": [
  {
   "cell_type": "markdown",
   "metadata": {},
   "source": [
    "# Import necessary libraries"
   ]
  },
  {
   "cell_type": "code",
   "execution_count": 26,
   "metadata": {},
   "outputs": [],
   "source": [
    "%matplotlib inline\n",
    "\n",
    "from sklearn.datasets import load_digits\n",
    "\n",
    "import numpy as np \n",
    "import matplotlib.pyplot as plt\n",
    "#import cv2\n",
    "import warnings\n",
    "\n",
    "# Import datasets, classifiers and performance metrics\n",
    "from sklearn import datasets, svm, metrics, neighbors\n",
    "from sklearn.svm import SVC\n",
    "\n",
    "from sklearn.model_selection import train_test_split\n",
    "from sklearn.linear_model import LogisticRegression\n",
    "from sklearn.metrics import classification_report\n",
    "from sklearn.metrics import accuracy_score\n",
    "from scipy.misc.pilutil import imresize\n",
    "\n",
    "import matplotlib.pylab as plt\n",
    "warnings.filterwarnings(\"ignore\")"
   ]
  },
  {
   "cell_type": "markdown",
   "metadata": {},
   "source": [
    "# Load Digits dataset"
   ]
  },
  {
   "cell_type": "code",
   "execution_count": 27,
   "metadata": {},
   "outputs": [
    {
     "name": "stdout",
     "output_type": "stream",
     "text": [
      "(1797, 64)\n",
      "(1797,)\n"
     ]
    }
   ],
   "source": [
    "digits = load_digits()\n",
    "\n",
    "print(digits.data.shape)\n",
    "# These are the labels\n",
    "print(digits.target.shape)"
   ]
  },
  {
   "cell_type": "markdown",
   "metadata": {},
   "source": [
    "# Show sample digit"
   ]
  },
  {
   "cell_type": "code",
   "execution_count": 28,
   "metadata": {},
   "outputs": [
    {
     "data": {
      "image/png": "[encoded data removed]",
      "text/plain": [
       "<Figure size 432x288 with 1 Axes>"
      ]
     },
     "metadata": {},
     "output_type": "display_data"
    },
    {
     "name": "stdout",
     "output_type": "stream",
     "text": [
      "[[ 0.  0.  0.  0. 12.  2.  0.  0.]\n",
      " [ 0.  0.  0.  6. 14.  1.  0.  0.]\n",
      " [ 0.  0.  4. 16.  7.  8.  0.  0.]\n",
      " [ 0.  0. 13.  9.  0. 16.  6.  0.]\n",
      " [ 0.  6. 16. 10. 11. 16.  0.  0.]\n",
      " [ 0.  0.  5. 10. 13. 16.  0.  0.]\n",
      " [ 0.  0.  0.  0.  6. 16.  0.  0.]\n",
      " [ 0.  0.  0.  0. 12.  8.  0.  0.]]\n"
     ]
    }
   ],
   "source": [
    "fig = plt.figure()\n",
    "plt.imshow(digits.images[24],cmap = plt.cm.gray_r)\n",
    "txt = \"This is %d\"%digits.target[24]\n",
    "fig.text(0.1,0.1,txt)\n",
    "plt.show()\n",
    "print(digits.images[24])"
   ]
  },
  {
   "cell_type": "markdown",
   "metadata": {},
   "source": [
    "# Split dataset into training and testing"
   ]
  },
  {
   "cell_type": "code",
   "execution_count": 29,
   "metadata": {},
   "outputs": [],
   "source": [
    "x_train, x_test, y_train, y_test = train_test_split(digits.data, digits.target, test_size=0.2, random_state=0)"
   ]
  },
  {
   "cell_type": "markdown",
   "metadata": {},
   "source": [
    "# Fit and predict with logistic regression, measure accuracy with test dataset"
   ]
  },
  {
   "cell_type": "code",
   "execution_count": 30,
   "metadata": {},
   "outputs": [
    {
     "name": "stdout",
     "output_type": "stream",
     "text": [
      "Result with logistic regression\n",
      "             precision    recall  f1-score   support\n",
      "\n",
      "          0       1.00      1.00      1.00        27\n",
      "          1       0.89      0.89      0.89        35\n",
      "          2       0.97      0.94      0.96        36\n",
      "          3       0.91      1.00      0.95        29\n",
      "          4       0.97      1.00      0.98        30\n",
      "          5       0.97      0.97      0.97        40\n",
      "          6       0.98      0.98      0.98        44\n",
      "          7       1.00      0.95      0.97        39\n",
      "          8       0.88      0.90      0.89        39\n",
      "          9       0.95      0.90      0.92        41\n",
      "\n",
      "avg / total       0.95      0.95      0.95       360\n",
      "\n"
     ]
    }
   ],
   "source": [
    "print('Result with logistic regression')\n",
    "logisticRegr = LogisticRegression()\n",
    "logisticRegr.fit(x_train, y_train)\n",
    "y_pred = logisticRegr.predict(x_test)\n",
    "print(classification_report(y_test, y_pred))"
   ]
  },
  {
   "cell_type": "markdown",
   "metadata": {},
   "source": [
    "# Fit and predict with linear SVM, measure accuracy with test dataset"
   ]
  },
  {
   "cell_type": "code",
   "execution_count": 31,
   "metadata": {},
   "outputs": [
    {
     "name": "stdout",
     "output_type": "stream",
     "text": [
      "Result with linear SVM\n",
      "             precision    recall  f1-score   support\n",
      "\n",
      "          0       1.00      0.67      0.80        27\n",
      "          1       1.00      0.17      0.29        35\n",
      "          2       1.00      0.25      0.40        36\n",
      "          3       0.11      1.00      0.19        29\n",
      "          4       1.00      0.50      0.67        30\n",
      "          5       1.00      0.15      0.26        40\n",
      "          6       1.00      0.39      0.56        44\n",
      "          7       1.00      0.23      0.38        39\n",
      "          8       0.00      0.00      0.00        39\n",
      "          9       1.00      0.20      0.33        41\n",
      "\n",
      "avg / total       0.82      0.33      0.37       360\n",
      "\n"
     ]
    }
   ],
   "source": [
    "print('Result with linear SVM')\n",
    "linearsvm = SVC()\n",
    "linearsvm.fit(x_train, y_train)\n",
    "y_pred = linearsvm.predict(x_test)\n",
    "print(classification_report(y_test, y_pred))"
   ]
  },
  {
   "cell_type": "markdown",
   "metadata": {},
   "source": [
    "# Linear SVM with different parameters"
   ]
  },
  {
   "cell_type": "code",
   "execution_count": 32,
   "metadata": {},
   "outputs": [
    {
     "name": "stdout",
     "output_type": "stream",
     "text": [
      "Result with linear SVM with gamma 0.001\n",
      "             precision    recall  f1-score   support\n",
      "\n",
      "          0       1.00      1.00      1.00        27\n",
      "          1       0.97      1.00      0.99        35\n",
      "          2       1.00      1.00      1.00        36\n",
      "          3       1.00      1.00      1.00        29\n",
      "          4       1.00      1.00      1.00        30\n",
      "          5       0.97      0.97      0.97        40\n",
      "          6       1.00      1.00      1.00        44\n",
      "          7       1.00      1.00      1.00        39\n",
      "          8       1.00      0.97      0.99        39\n",
      "          9       0.98      0.98      0.98        41\n",
      "\n",
      "avg / total       0.99      0.99      0.99       360\n",
      "\n"
     ]
    }
   ],
   "source": [
    "print('Result with linear SVM with gamma 0.001')\n",
    "linearsvm = SVC(gamma=0.001)\n",
    "linearsvm.fit(x_train, y_train)\n",
    "y_pred = linearsvm.predict(x_test)\n",
    "print(classification_report(y_test, y_pred))"
   ]
  },
  {
   "cell_type": "markdown",
   "metadata": {},
   "source": [
    "# Classification using K-NN"
   ]
  },
  {
   "cell_type": "code",
   "execution_count": 33,
   "metadata": {},
   "outputs": [
    {
     "name": "stdout",
     "output_type": "stream",
     "text": [
      "Result with K-NN\n",
      "             precision    recall  f1-score   support\n",
      "\n",
      "          0       1.00      1.00      1.00        27\n",
      "          1       0.97      0.97      0.97        35\n",
      "          2       1.00      0.97      0.99        36\n",
      "          3       0.91      1.00      0.95        29\n",
      "          4       1.00      0.97      0.98        30\n",
      "          5       0.95      0.97      0.96        40\n",
      "          6       1.00      1.00      1.00        44\n",
      "          7       0.95      1.00      0.97        39\n",
      "          8       1.00      0.90      0.95        39\n",
      "          9       0.98      0.98      0.98        41\n",
      "\n",
      "avg / total       0.98      0.97      0.97       360\n",
      "\n"
     ]
    }
   ],
   "source": [
    "print('Result with K-NN')\n",
    "knn = neighbors.KNeighborsClassifier()\n",
    "knn.fit(x_train, y_train)\n",
    "y_pred = knn.predict(x_test)\n",
    "print(classification_report(y_test, y_pred))"
   ]
  },
  {
   "cell_type": "markdown",
   "metadata": {},
   "source": [
    "# Predict on a new 8*8 digit image from MSPaint"
   ]
  },
  {
   "cell_type": "code",
   "execution_count": 37,
   "metadata": {},
   "outputs": [
    {
     "name": "stdout",
     "output_type": "stream",
     "text": [
      "[[0. 0. 1. 1. 0. 0. 0. 0.]\n",
      " [0. 0. 1. 1. 0. 0. 0. 0.]\n",
      " [0. 0. 0. 1. 0. 0. 0. 0.]\n",
      " [0. 0. 0. 1. 0. 0. 0. 0.]\n",
      " [0. 0. 0. 1. 0. 0. 0. 0.]\n",
      " [0. 0. 0. 1. 0. 0. 0. 0.]\n",
      " [0. 0. 0. 1. 0. 0. 0. 0.]\n",
      " [0. 1. 1. 1. 1. 1. 0. 0.]]\n",
      "Predicted number is = [1]\n"
     ]
    },
    {
     "data": {
      "image/png": "[encoded data removed]",
      "text/plain": [
       "<Figure size 432x288 with 1 Axes>"
      ]
     },
     "metadata": {},
     "output_type": "display_data"
    }
   ],
   "source": [
    "from scipy import misc\n",
    "import imageio\n",
    "from skimage import io\n",
    "\n",
    "hand_image = io.imread('handwritten_digit.png', as_grey=True)\n",
    "hand_image_1 = 1 - hand_image\n",
    "plt.imshow(hand_image_1, cmap = plt.cm.gray_r)\n",
    "print(hand_image_1)\n",
    "\n",
    "flattened_image = hand_image_1.flatten()\n",
    "reshaped_image = flattened_image.reshape(1, 64)\n",
    "y_pred = linearsvm.predict(reshaped_image)\n",
    "print(\"Predicted number is =\", y_pred)\n",
    "\n",
    "#from PIL import Image\n",
    "#import numpy as np\n",
    "#im_frame = Image.open('handwritten_digit.png')\n",
    "#np_frame = np.array(im_frame.getdata())\n",
    "#import os\n",
    "#import matplotlib.pyplot as plt\n",
    "#import cv2\n",
    "# Load using matplotlib\n",
    "#images_plt = plt.imread('handwritten_digit.png')\n",
    "# convert your lists into a numpy array of size (N, H, W, C)\n",
    "#images = np.array(images_plt)\n",
    "#print(images.shape)             \n",
    "# Load using opencv\n",
    "#images_cv = cv2.imread('handwritten_digit.png') \n",
    "# convert your lists into a numpy array of size (N, C, H, W)\n",
    "#images = np.array(images_cv)\n",
    "#pixels = images.flatten().reshape(8, 8)\n",
    "#print(pixels.shape)"
   ]
  },
  {
   "cell_type": "code",
   "execution_count": null,
   "metadata": {},
   "outputs": [],
   "source": []
  }
 ],
 "metadata": {
  "kernelspec": {
   "display_name": "Python 3",
   "language": "python",
   "name": "python3"
  },
  "language_info": {
   "codemirror_mode": {
    "name": "ipython",
    "version": 3
   },
   "file_extension": ".py",
   "mimetype": "text/x-python",
   "name": "python",
   "nbconvert_exporter": "python",
   "pygments_lexer": "ipython3",
   "version": "3.6.5"
  }
 },
 "nbformat": 4,
 "nbformat_minor": 2
}
